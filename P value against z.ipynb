{
 "cells": [
  {
   "cell_type": "code",
   "execution_count": 1,
   "metadata": {},
   "outputs": [],
   "source": [
    "from matplotlib import pyplot as plt\n",
    "import numpy as np\n",
    "from scipy import stats\n",
    "import pandas as pd\n",
    "from sklearn import preprocessing"
   ]
  },
  {
   "cell_type": "code",
   "execution_count": 2,
   "metadata": {},
   "outputs": [],
   "source": [
    "merged_df = pd.read_csv('swift_data.csv', sep='\\t')"
   ]
  },
  {
   "cell_type": "code",
   "execution_count": 3,
   "metadata": {},
   "outputs": [],
   "source": [
    "LGRBs = merged_df.loc[(merged_df['Restframe T90'] >= 2)]\n",
    "SGRBs =  merged_df.loc[(merged_df['Restframe T90'] < 2)]\n",
    "\n",
    "SGRBs = SGRBs.sort_values(by=['z'])\n",
    "LGRBs = LGRBs.sort_values(by=['z'])"
   ]
  },
  {
   "cell_type": "code",
   "execution_count": 4,
   "metadata": {},
   "outputs": [],
   "source": [
    "def GRB_KS_test(int):\n",
    "    \"\"\"\n",
    "    Takes in a value for the upper-limit of the range of z values. Then makes a normalised cumulative distribution for \n",
    "    that range of z. From that distribution, we take the y-values for SGRBs & LGRBs and run a KS test on that range. The\n",
    "    output is a p-value.\n",
    "    \"\"\"\n",
    "    # makes a dataframe for LGRBs under a certain input z i.e. int\n",
    "    LGRBsI = LGRBs.loc[(LGRBs['z'] < int)]\n",
    "    # makes a dataframe of SGRBS under a certain input z i.e. int\n",
    "    SGRBsI = SGRBs.loc[(SGRBs['z'] < int)]\n",
    "    \n",
    "    # here we make a list of x-values we will use in the distribution\n",
    "    x = LGRBsI[['z']].values.astype(float)\n",
    "    i = SGRBsI[['z']].values.astype(float)\n",
    "\n",
    "    n, bins, patches = plt.hist(i, len(i), density=True, histtype='step', cumulative=True, label='Empirical')\n",
    "    m, bins, patches = plt.hist(x, len(x), density=True, histtype='step', cumulative=True, label='Empirical')\n",
    "    # n = y values for SGRBs in the distribution\n",
    "    # m = y values for LGRBs in the distribution\n",
    "    plt.close() #prevents plot from returning\n",
    "    d, pval = stats.ks_2samp(n, m)\n",
    "    return pval"
   ]
  },
  {
   "cell_type": "code",
   "execution_count": 5,
   "metadata": {},
   "outputs": [],
   "source": [
    "maxi = merged_df['z'].max()\n",
    "\n",
    "list_p = []\n",
    "list_z = []\n",
    "for i in np.arange(0.1, float(maxi), 0.1):\n",
    "    list_p.append(GRB_KS_test(i))\n",
    "    list_z.append(float(i))"
   ]
  },
  {
   "cell_type": "code",
   "execution_count": 9,
   "metadata": {
    "scrolled": true
   },
   "outputs": [
    {
     "data": {
      "image/png": "[encoded data removed]",
      "text/plain": [
       "<Figure size 576x360 with 1 Axes>"
      ]
     },
     "metadata": {
      "needs_background": "light"
     },
     "output_type": "display_data"
    }
   ],
   "source": [
    "plt.figure(figsize=(8,5)) #sets figure size\n",
    "\n",
    "plt.plot(list_z, list_p)\n",
    "plt.xlabel('Z', fontsize=20)\n",
    "plt.ylabel('P value', fontsize=20)\n",
    "plt.show()"
   ]
  },
  {
   "cell_type": "code",
   "execution_count": null,
   "metadata": {},
   "outputs": [],
   "source": [
    "GRB_KS_test(1)"
   ]
  },
  {
   "cell_type": "code",
   "execution_count": null,
   "metadata": {},
   "outputs": [],
   "source": [
    "GRB_KS_test(6.5)"
   ]
  }
 ],
 "metadata": {
  "kernelspec": {
   "display_name": "Python 3",
   "language": "python",
   "name": "python3"
  },
  "language_info": {
   "codemirror_mode": {
    "name": "ipython",
    "version": 3
   },
   "file_extension": ".py",
   "mimetype": "text/x-python",
   "name": "python",
   "nbconvert_exporter": "python",
   "pygments_lexer": "ipython3",
   "version": "3.7.6"
  }
 },
 "nbformat": 4,
 "nbformat_minor": 4
}
